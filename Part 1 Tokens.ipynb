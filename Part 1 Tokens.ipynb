{
 "cells": [
  {
   "cell_type": "markdown",
   "metadata": {
    "colab_type": "text",
    "id": "zkrlPU89UVYd"
   },
   "source": [
    "# NLP for NOOBS Example Notebook"
   ]
  },
  {
   "cell_type": "markdown",
   "metadata": {
    "colab_type": "text",
    "id": "PeqqnVHnUV7L"
   },
   "source": [
    "## NLP Basics"
   ]
  },
  {
   "cell_type": "markdown",
   "metadata": {
    "colab_type": "text",
    "id": "v90uCwQ2UenJ"
   },
   "source": [
    "### Example 1: Tokenization"
   ]
  },
  {
   "cell_type": "code",
   "execution_count": 1,
   "metadata": {
    "colab": {},
    "colab_type": "code",
    "id": "kW2pQ8RWUEsy"
   },
   "outputs": [],
   "source": [
    "sample_text = \"\"\"A token is a sequence of characters in a document that are useful for\n",
    "                 an analytical purpose. Often, but not always individual words. A \n",
    "                 document in an NLP context simply means a collection of text, this\n",
    "                 could be a tweet, a book, or anything in between. \n",
    "                 Attributes of good tokens \n",
    "                 Tokens should always be stored in an iterable data structure \n",
    "                 (list, generator, etc.) to allow for easy future analysis \n",
    "                 Tokens should all be the same case to reduce complexity \n",
    "                 Tokens should be free of non-alphanumeric characters\"\"\""
   ]
  },
  {
   "cell_type": "code",
   "execution_count": 2,
   "metadata": {
    "colab": {
     "base_uri": "https://localhost:8080/",
     "height": 197
    },
    "colab_type": "code",
    "id": "xslGzNS0UU4j",
    "outputId": "cfd789a2-2e5e-4350-8163-7edf9e87aea0"
   },
   "outputs": [
    {
     "data": {
      "text/plain": [
       "['a',\n",
       " 'token',\n",
       " 'is',\n",
       " 'a',\n",
       " 'sequence',\n",
       " 'of',\n",
       " 'characters',\n",
       " 'in',\n",
       " 'a',\n",
       " 'document']"
      ]
     },
     "execution_count": 2,
     "metadata": {},
     "output_type": "execute_result"
    }
   ],
   "source": [
    "import re\n",
    "\n",
    "def tokenize(text):\n",
    "    text = text.lower()\n",
    "    text = re.sub(r'[^a-zA-Z ^0-9]', '', str(text))\n",
    "    return text.split()\n",
    "  \n",
    "tokens = tokenize(sample_text)\n",
    "tokens[:10]"
   ]
  },
  {
   "cell_type": "markdown",
   "metadata": {
    "colab_type": "text",
    "id": "K5KOiRcupwhS"
   },
   "source": [
    "### Example 2: Word Count"
   ]
  },
  {
   "cell_type": "code",
   "execution_count": 3,
   "metadata": {
    "colab": {
     "base_uri": "https://localhost:8080/",
     "height": 35
    },
    "colab_type": "code",
    "id": "lf9yVJuBUqyS",
    "outputId": "e7fe4101-cc6a-486e-b53e-f03086c8cc0b"
   },
   "outputs": [
    {
     "data": {
      "text/plain": [
       "[('a', 7), ('of', 4), ('in', 4), ('be', 4), ('tokens', 4)]"
      ]
     },
     "execution_count": 3,
     "metadata": {},
     "output_type": "execute_result"
    }
   ],
   "source": [
    "from collections import Counter\n",
    "\n",
    "def word_counter(tokens):\n",
    "    word_counts = Counter()\n",
    "    word_counts.update(tokens)\n",
    "    return word_counts\n",
    "  \n",
    "word_count = word_counter(tokens)\n",
    "word_count.most_common(5)"
   ]
  },
  {
   "cell_type": "markdown",
   "metadata": {
    "colab_type": "text",
    "id": "88l8202dp29z"
   },
   "source": [
    "### Example 3: Word Count Visualization"
   ]
  },
  {
   "cell_type": "code",
   "execution_count": 4,
   "metadata": {
    "colab": {
     "base_uri": "https://localhost:8080/",
     "height": 269
    },
    "colab_type": "code",
    "id": "K3lD_9aibAPK",
    "outputId": "8bd5b2d4-6a9a-46e7-943d-4f5d136d4f02"
   },
   "outputs": [
    {
     "data": {
      "text/plain": [
       "<Figure size 640x480 with 1 Axes>"
      ]
     },
     "metadata": {},
     "output_type": "display_data"
    }
   ],
   "source": [
    "import matplotlib.pyplot as plt\n",
    "\n",
    "x = list(word_count.keys())[:10]\n",
    "y = list(word_count.values())[:10]\n",
    "\n",
    "plt.bar(x, y)\n",
    "plt.show();"
   ]
  },
  {
   "cell_type": "markdown",
   "metadata": {
    "colab_type": "text",
    "id": "HVCiCekWp9VR"
   },
   "source": [
    "### Example 4: Document Makeup DataFrame"
   ]
  },
  {
   "cell_type": "code",
   "execution_count": 5,
   "metadata": {
    "colab": {},
    "colab_type": "code",
    "id": "UYgCcaX_YiG9"
   },
   "outputs": [
    {
     "data": {
      "text/html": [
       "<div>\n",
       "<style scoped>\n",
       "    .dataframe tbody tr th:only-of-type {\n",
       "        vertical-align: middle;\n",
       "    }\n",
       "\n",
       "    .dataframe tbody tr th {\n",
       "        vertical-align: top;\n",
       "    }\n",
       "\n",
       "    .dataframe thead th {\n",
       "        text-align: right;\n",
       "    }\n",
       "</style>\n",
       "<table border=\"1\" class=\"dataframe\">\n",
       "  <thead>\n",
       "    <tr style=\"text-align: right;\">\n",
       "      <th></th>\n",
       "      <th>word</th>\n",
       "      <th>appears_in</th>\n",
       "      <th>count</th>\n",
       "      <th>rank</th>\n",
       "      <th>pct_total</th>\n",
       "      <th>cul_pct_total</th>\n",
       "      <th>appears_in_pct</th>\n",
       "    </tr>\n",
       "  </thead>\n",
       "  <tbody>\n",
       "    <tr>\n",
       "      <th>54</th>\n",
       "      <td>a</td>\n",
       "      <td>1</td>\n",
       "      <td>7</td>\n",
       "      <td>1.0</td>\n",
       "      <td>0.081395</td>\n",
       "      <td>0.081395</td>\n",
       "      <td>1.0</td>\n",
       "    </tr>\n",
       "    <tr>\n",
       "      <th>0</th>\n",
       "      <td>of</td>\n",
       "      <td>1</td>\n",
       "      <td>4</td>\n",
       "      <td>2.0</td>\n",
       "      <td>0.046512</td>\n",
       "      <td>0.127907</td>\n",
       "      <td>1.0</td>\n",
       "    </tr>\n",
       "    <tr>\n",
       "      <th>11</th>\n",
       "      <td>in</td>\n",
       "      <td>1</td>\n",
       "      <td>4</td>\n",
       "      <td>3.0</td>\n",
       "      <td>0.046512</td>\n",
       "      <td>0.174419</td>\n",
       "      <td>1.0</td>\n",
       "    </tr>\n",
       "    <tr>\n",
       "      <th>52</th>\n",
       "      <td>be</td>\n",
       "      <td>1</td>\n",
       "      <td>4</td>\n",
       "      <td>4.0</td>\n",
       "      <td>0.046512</td>\n",
       "      <td>0.220930</td>\n",
       "      <td>1.0</td>\n",
       "    </tr>\n",
       "    <tr>\n",
       "      <th>38</th>\n",
       "      <td>tokens</td>\n",
       "      <td>1</td>\n",
       "      <td>4</td>\n",
       "      <td>5.0</td>\n",
       "      <td>0.046512</td>\n",
       "      <td>0.267442</td>\n",
       "      <td>1.0</td>\n",
       "    </tr>\n",
       "  </tbody>\n",
       "</table>\n",
       "</div>"
      ],
      "text/plain": [
       "      word  appears_in  count  rank  pct_total  cul_pct_total  appears_in_pct\n",
       "54       a           1      7   1.0   0.081395       0.081395             1.0\n",
       "0       of           1      4   2.0   0.046512       0.127907             1.0\n",
       "11      in           1      4   3.0   0.046512       0.174419             1.0\n",
       "52      be           1      4   4.0   0.046512       0.220930             1.0\n",
       "38  tokens           1      4   5.0   0.046512       0.267442             1.0"
      ]
     },
     "execution_count": 5,
     "metadata": {},
     "output_type": "execute_result"
    }
   ],
   "source": [
    "import pandas as pd\n",
    "\n",
    "def count(docs):\n",
    "  \n",
    "    word_counts = Counter()\n",
    "    appears_in = Counter()\n",
    "    total_docs = len(docs)\n",
    "    \n",
    "    for doc in docs:\n",
    "        word_counts.update(doc)\n",
    "        appears_in.update(set(doc))\n",
    "        \n",
    "    temp = list(zip(word_counts.keys(), word_counts.values()))\n",
    "    \n",
    "    # Word and count columns\n",
    "    wc = pd.DataFrame(temp, columns = ['word', 'count'])\n",
    "    \n",
    "    # Rank column\n",
    "    wc['rank'] = wc['count'].rank(method='first', ascending=False)\n",
    "    \n",
    "    # Percent Total column\n",
    "    total = wc['count'].sum()\n",
    "    wc['pct_total'] = wc['count'].apply(lambda x: x / total)\n",
    "    \n",
    "    # Cumulative percent total column\n",
    "    wc = wc.sort_values(by='rank')\n",
    "    wc['cul_pct_total'] = wc['pct_total'].cumsum()\n",
    "    \n",
    "    # Appears in column\n",
    "    t2 = list(zip(appears_in.keys(), appears_in.values()))\n",
    "    ac = pd.DataFrame(t2, columns=['word', 'appears_in'])\n",
    "    wc = ac.merge(wc, on='word')\n",
    "    \n",
    "    # Appears in percent column\n",
    "    wc['appears_in_pct'] = wc['appears_in'].apply(lambda x: x / total_docs)\n",
    "    \n",
    "    \n",
    "    return wc.sort_values(by='rank')\n",
    "  \n",
    "wc = count([tokens])\n",
    "\n",
    "wc.head()"
   ]
  },
  {
   "cell_type": "markdown",
   "metadata": {
    "colab_type": "text",
    "id": "Wgc86M4FqEfe"
   },
   "source": [
    "### Example 5: Cumulative Distribution Plot"
   ]
  },
  {
   "cell_type": "code",
   "execution_count": 6,
   "metadata": {
    "colab": {
     "base_uri": "https://localhost:8080/",
     "height": 283
    },
    "colab_type": "code",
    "id": "OthiwnH3Y5ZK",
    "outputId": "961ac054-f7fa-4544-e2b9-b43d859f655d"
   },
   "outputs": [
    {
     "data": {
      "image/png": "[encoded data removed]",
      "text/plain": [
       "<Figure size 432x288 with 1 Axes>"
      ]
     },
     "metadata": {
      "needs_background": "light"
     },
     "output_type": "display_data"
    }
   ],
   "source": [
    "import seaborn as sns\n",
    "\n",
    "sns.lineplot(x = 'rank', y = 'cul_pct_total', data = wc)\n",
    "plt.show();"
   ]
  },
  {
   "cell_type": "markdown",
   "metadata": {
    "colab_type": "text",
    "id": "RRdRuMTdqLrT"
   },
   "source": [
    "### Example 6: Tree Plot"
   ]
  },
  {
   "cell_type": "code",
   "execution_count": 7,
   "metadata": {
    "colab": {
     "base_uri": "https://localhost:8080/",
     "height": 109
    },
    "colab_type": "code",
    "id": "EovrP4YdecOu",
    "outputId": "33691f29-fe47-495c-bcc5-db1cbba7f38e"
   },
   "outputs": [
    {
     "name": "stdout",
     "output_type": "stream",
     "text": [
      "Requirement already satisfied: squarify in /Applications/anaconda3/lib/python3.6/site-packages (0.4.3)\n"
     ]
    }
   ],
   "source": [
    "!pip install squarify"
   ]
  },
  {
   "cell_type": "code",
   "execution_count": 8,
   "metadata": {
    "colab": {
     "base_uri": "https://localhost:8080/",
     "height": 269
    },
    "colab_type": "code",
    "id": "POoTrhhPeVON",
    "outputId": "16a6608f-0aab-4aa4-9c8a-dc73c3205580"
   },
   "outputs": [
    {
     "data": {
      "image/png": "[encoded data removed]",
      "text/plain": [
       "<Figure size 432x288 with 1 Axes>"
      ]
     },
     "metadata": {
      "needs_background": "light"
     },
     "output_type": "display_data"
    }
   ],
   "source": [
    "import squarify\n",
    "\n",
    "wc_top20 = wc[wc['rank'] <= 13]\n",
    "squarify.plot(sizes=wc_top20['pct_total'], label=wc_top20['word'], alpha=.8 )\n",
    "plt.axis('off')\n",
    "plt.show();"
   ]
  },
  {
   "cell_type": "markdown",
   "metadata": {
    "colab_type": "text",
    "id": "0reBhk9-qX_K"
   },
   "source": [
    "### Example 7: Tokens with SpaCy"
   ]
  },
  {
   "cell_type": "code",
   "execution_count": 17,
   "metadata": {
    "colab": {
     "base_uri": "https://localhost:8080/",
     "height": 387
    },
    "colab_type": "code",
    "id": "VC9EPZc8qYIT",
    "outputId": "453fb44b-d622-4a7b-87a7-0614c5834967"
   },
   "outputs": [
    {
     "data": {
      "text/plain": [
       "['A',\n",
       " 'token',\n",
       " 'is',\n",
       " 'a',\n",
       " 'sequence',\n",
       " 'of',\n",
       " 'characters',\n",
       " 'in',\n",
       " 'a',\n",
       " 'document']"
      ]
     },
     "execution_count": 17,
     "metadata": {},
     "output_type": "execute_result"
    }
   ],
   "source": [
    "import spacy \n",
    "\n",
    "nlp = spacy.load(\"en_core_web_lg\")\n",
    "\n",
    "def spacy_tokenize(text):\n",
    "    doc = nlp.tokenizer(text)\n",
    "    return [token.text for token in doc]\n",
    "\n",
    "spacy_tokens = spacy_tokenize(sample_text)\n",
    "\n",
    "spacy_tokens[:10]"
   ]
  },
  {
   "cell_type": "markdown",
   "metadata": {},
   "source": [
    "### Example 8: Stopword Removal"
   ]
  },
  {
   "cell_type": "code",
   "execution_count": 21,
   "metadata": {},
   "outputs": [
    {
     "data": {
      "text/plain": [
       "['A',\n",
       " 'token',\n",
       " 'sequence',\n",
       " 'characters',\n",
       " 'document',\n",
       " 'useful',\n",
       " 'analytical',\n",
       " 'purpose',\n",
       " '.',\n",
       " 'Often']"
      ]
     },
     "execution_count": 21,
     "metadata": {},
     "output_type": "execute_result"
    }
   ],
   "source": [
    "spacy_stopwords = spacy.lang.en.stop_words.STOP_WORDS\n",
    "\n",
    "def remove_stopwords(tokens):\n",
    "    cleaned_tokens = []\n",
    "    \n",
    "    for token in tokens:\n",
    "        if token not in spacy_stopwords:\n",
    "            cleaned_tokens.append(token)\n",
    "    \n",
    "    return cleaned_tokens\n",
    "\n",
    "\n",
    "cleaned_tokens = remove_stopwords(spacy_tokens)\n",
    "\n",
    "cleaned_tokens[:10]"
   ]
  },
  {
   "cell_type": "markdown",
   "metadata": {},
   "source": [
    "### Example 9: Lemmatization"
   ]
  },
  {
   "cell_type": "code",
   "execution_count": 19,
   "metadata": {},
   "outputs": [
    {
     "data": {
      "text/plain": [
       "['A', 'token', 'be', 'a', 'sequence', 'of', 'character', 'in', 'a', 'document']"
      ]
     },
     "execution_count": 19,
     "metadata": {},
     "output_type": "execute_result"
    }
   ],
   "source": [
    "def spacy_lemmatize(text):\n",
    "    doc = nlp.tokenizer(text)\n",
    "    return [token.lemma_ for token in doc]\n",
    "\n",
    "spacy_lemmas = spacy_lemmatize(sample_text)\n",
    "\n",
    "spacy_lemmas[:10]"
   ]
  },
  {
   "cell_type": "markdown",
   "metadata": {
    "colab_type": "text",
    "id": "VI61Tbv5qXZ5"
   },
   "source": [
    "\n",
    "\n",
    "---\n",
    "\n"
   ]
  }
 ],
 "metadata": {
  "colab": {
   "name": "NLP for NOOBs Notebook.ipynb",
   "provenance": [],
   "version": "0.3.2"
  },
  "kernelspec": {
   "display_name": "Python 3",
   "language": "python",
   "name": "python3"
  },
  "language_info": {
   "codemirror_mode": {
    "name": "ipython",
    "version": 3
   },
   "file_extension": ".py",
   "mimetype": "text/x-python",
   "name": "python",
   "nbconvert_exporter": "python",
   "pygments_lexer": "ipython3",
   "version": "3.6.7"
  }
 },
 "nbformat": 4,
 "nbformat_minor": 2
}
